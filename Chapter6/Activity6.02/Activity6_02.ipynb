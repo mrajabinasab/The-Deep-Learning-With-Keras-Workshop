{
 "cells": [
  {
   "cell_type": "markdown",
   "metadata": {},
   "source": [
    "# Activity 6.02"
   ]
  },
  {
   "cell_type": "code",
   "execution_count": 1,
   "metadata": {},
   "outputs": [],
   "source": [
    "# Import the libraries\n",
    "import numpy as np\n",
    "import pandas as pd\n",
    "from tensorflow import random\n",
    "\n",
    "# Load the Data\n",
    "X = pd.read_csv(\"../data/aps_failure_training_feats.csv\")\n",
    "y = pd.read_csv(\"../data/aps_failure_training_target.csv\")"
   ]
  },
  {
   "cell_type": "code",
   "execution_count": 2,
   "metadata": {},
   "outputs": [],
   "source": [
    "# Split the data into training and testing sets\n",
    "from sklearn.model_selection import train_test_split\n",
    "seed = 42\n",
    "X_train, X_test, y_train, y_test= train_test_split(X, y, test_size=0.20, random_state=seed)"
   ]
  },
  {
   "cell_type": "code",
   "execution_count": 3,
   "metadata": {},
   "outputs": [],
   "source": [
    "# Initialize StandardScaler\n",
    "from sklearn.preprocessing import StandardScaler\n",
    "sc=StandardScaler()\n",
    "\n",
    "# Transform the training data\n",
    "X_train = sc.fit_transform(X_train)\n",
    "X_train = pd.DataFrame(X_train,columns=X_test.columns)\n",
    "\n",
    "# Transform the testing data\n",
    "X_test=sc.transform(X_test)\n",
    "X_test=pd.DataFrame(X_test,columns=X_train.columns)"
   ]
  },
  {
   "cell_type": "code",
   "execution_count": 4,
   "metadata": {},
   "outputs": [
    {
     "name": "stderr",
     "output_type": "stream",
     "text": [
      "Using TensorFlow backend.\n"
     ]
    }
   ],
   "source": [
    "# Import the relevant Keras libraries\n",
    "from keras.models import Sequential\n",
    "from keras.layers import Dense\n",
    "from keras.layers import Dropout\n",
    "\n",
    "random.set_seed(seed)\n",
    "np.random.seed(seed)\n",
    "model = Sequential()\n",
    "\n",
    "# Add the hidden dense layers and with dropout Layer\n",
    "model.add(Dense(units=64, activation='relu', kernel_initializer='uniform', input_dim=X_train.shape[1]))\n",
    "model.add(Dropout(rate=0.5))\n",
    "model.add(Dense(units=32, activation='relu', kernel_initializer='uniform'))\n",
    "model.add(Dropout(rate=0.4))\n",
    "model.add(Dense(units=16, activation='relu', kernel_initializer='uniform'))\n",
    "model.add(Dropout(rate=0.3))\n",
    "model.add(Dense(units=8, activation='relu', kernel_initializer='uniform'))\n",
    "model.add(Dropout(rate=0.2))\n",
    "model.add(Dense(units=4, activation='relu', kernel_initializer='uniform'))\n",
    "model.add(Dropout(rate=0.1))\n",
    "\n",
    "# Add Output Dense Layer\n",
    "model.add(Dense(units=1, activation='sigmoid', kernel_initializer='uniform'))\n",
    "\n",
    "# Compile the Model\n",
    "model.compile(optimizer='adam', loss='binary_crossentropy', metrics=['accuracy'])"
   ]
  },
  {
   "cell_type": "code",
   "execution_count": 5,
   "metadata": {},
   "outputs": [
    {
     "name": "stdout",
     "output_type": "stream",
     "text": [
      "Train on 38400 samples, validate on 9600 samples\n",
      "Epoch 1/100\n",
      "38400/38400 [==============================] - 6s 147us/step - loss: 0.0814 - accuracy: 0.9834 - val_loss: 0.0383 - val_accuracy: 0.9842\n",
      "Epoch 2/100\n",
      "38400/38400 [==============================] - 5s 122us/step - loss: 0.0401 - accuracy: 0.9834 - val_loss: 0.0342 - val_accuracy: 0.9842\n",
      "Epoch 3/100\n",
      "38400/38400 [==============================] - 4s 117us/step - loss: 0.0387 - accuracy: 0.9834 - val_loss: 0.0315 - val_accuracy: 0.9842\n",
      "Epoch 4/100\n",
      "38400/38400 [==============================] - 4s 117us/step - loss: 0.0359 - accuracy: 0.9834 - val_loss: 0.0304 - val_accuracy: 0.9842\n",
      "Epoch 5/100\n",
      "38400/38400 [==============================] - 4s 117us/step - loss: 0.0347 - accuracy: 0.9875 - val_loss: 0.0299 - val_accuracy: 0.9907\n",
      "Epoch 6/100\n",
      "38400/38400 [==============================] - 5s 122us/step - loss: 0.0329 - accuracy: 0.9899 - val_loss: 0.0340 - val_accuracy: 0.9911\n",
      "Epoch 7/100\n",
      "38400/38400 [==============================] - 5s 118us/step - loss: 0.0320 - accuracy: 0.9899 - val_loss: 0.0328 - val_accuracy: 0.9907\n",
      "Epoch 8/100\n",
      "38400/38400 [==============================] - 5s 119us/step - loss: 0.0321 - accuracy: 0.9904 - val_loss: 0.0288 - val_accuracy: 0.9914\n",
      "Epoch 9/100\n",
      "38400/38400 [==============================] - 4s 112us/step - loss: 0.0305 - accuracy: 0.9907 - val_loss: 0.0336 - val_accuracy: 0.9917\n",
      "Epoch 10/100\n",
      "38400/38400 [==============================] - 4s 116us/step - loss: 0.0301 - accuracy: 0.9913 - val_loss: 0.0309 - val_accuracy: 0.9925\n",
      "Epoch 11/100\n",
      "38400/38400 [==============================] - 5s 126us/step - loss: 0.0303 - accuracy: 0.9907 - val_loss: 0.0338 - val_accuracy: 0.9930\n",
      "Epoch 12/100\n",
      "38400/38400 [==============================] - 5s 124us/step - loss: 0.0289 - accuracy: 0.9914 - val_loss: 0.0287 - val_accuracy: 0.9910\n",
      "Epoch 13/100\n",
      "38400/38400 [==============================] - 5s 123us/step - loss: 0.0296 - accuracy: 0.9911 - val_loss: 0.0303 - val_accuracy: 0.9929\n",
      "Epoch 14/100\n",
      "38400/38400 [==============================] - 5s 127us/step - loss: 0.0283 - accuracy: 0.9915 - val_loss: 0.0309 - val_accuracy: 0.9923\n",
      "Epoch 15/100\n",
      "38400/38400 [==============================] - 5s 120us/step - loss: 0.0295 - accuracy: 0.9917 - val_loss: 0.0289 - val_accuracy: 0.9904\n",
      "Epoch 16/100\n",
      "38400/38400 [==============================] - 5s 121us/step - loss: 0.0277 - accuracy: 0.9921 - val_loss: 0.0303 - val_accuracy: 0.9909\n",
      "Epoch 17/100\n",
      "38400/38400 [==============================] - 5s 133us/step - loss: 0.0275 - accuracy: 0.9919 - val_loss: 0.0287 - val_accuracy: 0.9919\n",
      "Epoch 18/100\n",
      "38400/38400 [==============================] - 5s 123us/step - loss: 0.0292 - accuracy: 0.9921 - val_loss: 0.0272 - val_accuracy: 0.9931\n",
      "Epoch 19/100\n",
      "38400/38400 [==============================] - 5s 123us/step - loss: 0.0263 - accuracy: 0.9923 - val_loss: 0.0343 - val_accuracy: 0.9917\n",
      "Epoch 20/100\n",
      "38400/38400 [==============================] - 4s 116us/step - loss: 0.0265 - accuracy: 0.9917 - val_loss: 0.0325 - val_accuracy: 0.9917\n",
      "Epoch 21/100\n",
      "38400/38400 [==============================] - 4s 110us/step - loss: 0.0258 - accuracy: 0.9919 - val_loss: 0.0293 - val_accuracy: 0.9918\n",
      "Epoch 22/100\n",
      "38400/38400 [==============================] - 4s 110us/step - loss: 0.0264 - accuracy: 0.9923 - val_loss: 0.0314 - val_accuracy: 0.9920\n",
      "Epoch 23/100\n",
      "38400/38400 [==============================] - 4s 114us/step - loss: 0.0270 - accuracy: 0.9917 - val_loss: 0.0377 - val_accuracy: 0.9915\n",
      "Epoch 24/100\n",
      "38400/38400 [==============================] - 5s 121us/step - loss: 0.0270 - accuracy: 0.9924 - val_loss: 0.0305 - val_accuracy: 0.9917\n",
      "Epoch 25/100\n",
      "38400/38400 [==============================] - 4s 113us/step - loss: 0.0261 - accuracy: 0.9921 - val_loss: 0.0287 - val_accuracy: 0.9923\n",
      "Epoch 26/100\n",
      "38400/38400 [==============================] - 4s 110us/step - loss: 0.0240 - accuracy: 0.9926 - val_loss: 0.0359 - val_accuracy: 0.9922\n",
      "Epoch 27/100\n",
      "38400/38400 [==============================] - 5s 124us/step - loss: 0.0259 - accuracy: 0.9927 - val_loss: 0.0309 - val_accuracy: 0.9919\n",
      "Epoch 28/100\n",
      "38400/38400 [==============================] - 5s 121us/step - loss: 0.0255 - accuracy: 0.9926 - val_loss: 0.0332 - val_accuracy: 0.9926\n",
      "Epoch 29/100\n",
      "38400/38400 [==============================] - 5s 118us/step - loss: 0.0256 - accuracy: 0.9932 - val_loss: 0.0480 - val_accuracy: 0.9917\n",
      "Epoch 30/100\n",
      "38400/38400 [==============================] - 5s 122us/step - loss: 0.0259 - accuracy: 0.9926 - val_loss: 0.0281 - val_accuracy: 0.9917\n",
      "Epoch 31/100\n",
      "38400/38400 [==============================] - 5s 133us/step - loss: 0.0247 - accuracy: 0.9933 - val_loss: 0.0312 - val_accuracy: 0.9928\n",
      "Epoch 32/100\n",
      "38400/38400 [==============================] - 5s 126us/step - loss: 0.0244 - accuracy: 0.9932 - val_loss: 0.0352 - val_accuracy: 0.9919\n",
      "Epoch 33/100\n",
      "38400/38400 [==============================] - 5s 117us/step - loss: 0.0247 - accuracy: 0.9928 - val_loss: 0.0325 - val_accuracy: 0.9928\n",
      "Epoch 34/100\n",
      "38400/38400 [==============================] - 4s 112us/step - loss: 0.0235 - accuracy: 0.9928 - val_loss: 0.0360 - val_accuracy: 0.9928\n",
      "Epoch 35/100\n",
      "38400/38400 [==============================] - 4s 112us/step - loss: 0.0250 - accuracy: 0.9933 - val_loss: 0.0314 - val_accuracy: 0.9921\n",
      "Epoch 36/100\n",
      "38400/38400 [==============================] - 4s 115us/step - loss: 0.0236 - accuracy: 0.9929 - val_loss: 0.0310 - val_accuracy: 0.9917\n",
      "Epoch 37/100\n",
      "38400/38400 [==============================] - 5s 117us/step - loss: 0.0225 - accuracy: 0.9931 - val_loss: 0.0368 - val_accuracy: 0.9924\n",
      "Epoch 38/100\n",
      "38400/38400 [==============================] - 5s 122us/step - loss: 0.0257 - accuracy: 0.9934 - val_loss: 0.0323 - val_accuracy: 0.9928\n",
      "Epoch 39/100\n",
      "38400/38400 [==============================] - 4s 113us/step - loss: 0.0240 - accuracy: 0.9934 - val_loss: 0.0415 - val_accuracy: 0.9921\n",
      "Epoch 40/100\n",
      "38400/38400 [==============================] - 4s 114us/step - loss: 0.0237 - accuracy: 0.9927 - val_loss: 0.0384 - val_accuracy: 0.9928\n",
      "Epoch 41/100\n",
      "38400/38400 [==============================] - 4s 114us/step - loss: 0.0239 - accuracy: 0.9937 - val_loss: 0.0325 - val_accuracy: 0.9919\n",
      "Epoch 42/100\n",
      "38400/38400 [==============================] - 4s 116us/step - loss: 0.0237 - accuracy: 0.9932 - val_loss: 0.0337 - val_accuracy: 0.9933\n",
      "Epoch 43/100\n",
      "38400/38400 [==============================] - 5s 118us/step - loss: 0.0228 - accuracy: 0.9932 - val_loss: 0.0313 - val_accuracy: 0.9928\n",
      "Epoch 44/100\n",
      "38400/38400 [==============================] - 5s 123us/step - loss: 0.0240 - accuracy: 0.9936 - val_loss: 0.0365 - val_accuracy: 0.9924\n",
      "Epoch 45/100\n",
      "38400/38400 [==============================] - 4s 116us/step - loss: 0.0244 - accuracy: 0.9939 - val_loss: 0.0372 - val_accuracy: 0.9929\n",
      "Epoch 46/100\n",
      "38400/38400 [==============================] - 4s 116us/step - loss: 0.0217 - accuracy: 0.9937 - val_loss: 0.0420 - val_accuracy: 0.9926\n",
      "Epoch 47/100\n",
      "38400/38400 [==============================] - 4s 110us/step - loss: 0.0211 - accuracy: 0.9938 - val_loss: 0.0525 - val_accuracy: 0.9931\n",
      "Epoch 48/100\n",
      "38400/38400 [==============================] - 5s 125us/step - loss: 0.0242 - accuracy: 0.9939 - val_loss: 0.0408 - val_accuracy: 0.9930\n",
      "Epoch 49/100\n",
      "38400/38400 [==============================] - 4s 117us/step - loss: 0.0220 - accuracy: 0.9938 - val_loss: 0.0473 - val_accuracy: 0.9934\n",
      "Epoch 50/100\n",
      "38400/38400 [==============================] - 5s 122us/step - loss: 0.0228 - accuracy: 0.9943 - val_loss: 0.0302 - val_accuracy: 0.9918\n",
      "Epoch 51/100\n",
      "38400/38400 [==============================] - 4s 110us/step - loss: 0.0230 - accuracy: 0.9939 - val_loss: 0.0383 - val_accuracy: 0.9930\n",
      "Epoch 52/100\n",
      "38400/38400 [==============================] - 4s 105us/step - loss: 0.0236 - accuracy: 0.9940 - val_loss: 0.0481 - val_accuracy: 0.9930\n",
      "Epoch 53/100\n",
      "38400/38400 [==============================] - 4s 106us/step - loss: 0.0234 - accuracy: 0.9936 - val_loss: 0.0320 - val_accuracy: 0.9922\n",
      "Epoch 54/100\n",
      "38400/38400 [==============================] - 4s 106us/step - loss: 0.0225 - accuracy: 0.9939 - val_loss: 0.0335 - val_accuracy: 0.9920\n",
      "Epoch 55/100\n",
      "38400/38400 [==============================] - 4s 106us/step - loss: 0.0226 - accuracy: 0.9944 - val_loss: 0.0347 - val_accuracy: 0.9930\n",
      "Epoch 56/100\n",
      "38400/38400 [==============================] - 4s 106us/step - loss: 0.0205 - accuracy: 0.9941 - val_loss: 0.0588 - val_accuracy: 0.9931\n",
      "Epoch 57/100\n",
      "38400/38400 [==============================] - 4s 106us/step - loss: 0.0228 - accuracy: 0.9939 - val_loss: 0.0423 - val_accuracy: 0.9927\n",
      "Epoch 58/100\n",
      "38400/38400 [==============================] - 4s 107us/step - loss: 0.0232 - accuracy: 0.9939 - val_loss: 0.0382 - val_accuracy: 0.9927\n",
      "Epoch 59/100\n",
      "38400/38400 [==============================] - 4s 105us/step - loss: 0.0214 - accuracy: 0.9944 - val_loss: 0.0575 - val_accuracy: 0.9924\n",
      "Epoch 60/100\n",
      "38400/38400 [==============================] - 4s 110us/step - loss: 0.0219 - accuracy: 0.9936 - val_loss: 0.0473 - val_accuracy: 0.9924\n",
      "Epoch 61/100\n",
      "38400/38400 [==============================] - 4s 107us/step - loss: 0.0213 - accuracy: 0.9943 - val_loss: 0.0355 - val_accuracy: 0.9924\n",
      "Epoch 62/100\n",
      "38400/38400 [==============================] - 4s 110us/step - loss: 0.0227 - accuracy: 0.9943 - val_loss: 0.0382 - val_accuracy: 0.9932\n",
      "Epoch 63/100\n",
      "38400/38400 [==============================] - 4s 108us/step - loss: 0.0208 - accuracy: 0.9947 - val_loss: 0.0404 - val_accuracy: 0.9930\n",
      "Epoch 64/100\n",
      "38400/38400 [==============================] - 4s 108us/step - loss: 0.0194 - accuracy: 0.9943 - val_loss: 0.0469 - val_accuracy: 0.9930\n",
      "Epoch 65/100\n",
      "38400/38400 [==============================] - 4s 107us/step - loss: 0.0205 - accuracy: 0.9950 - val_loss: 0.0450 - val_accuracy: 0.9931\n",
      "Epoch 66/100\n",
      "38400/38400 [==============================] - 4s 105us/step - loss: 0.0203 - accuracy: 0.9941 - val_loss: 0.0506 - val_accuracy: 0.9927\n",
      "Epoch 67/100\n",
      "38400/38400 [==============================] - 4s 107us/step - loss: 0.0204 - accuracy: 0.9937 - val_loss: 0.0475 - val_accuracy: 0.9922\n",
      "Epoch 68/100\n",
      "38400/38400 [==============================] - 4s 107us/step - loss: 0.0235 - accuracy: 0.9942 - val_loss: 0.0413 - val_accuracy: 0.9923\n",
      "Epoch 69/100\n",
      "38400/38400 [==============================] - 4s 106us/step - loss: 0.0209 - accuracy: 0.9943 - val_loss: 0.0627 - val_accuracy: 0.9925\n",
      "Epoch 70/100\n",
      "38400/38400 [==============================] - 4s 106us/step - loss: 0.0197 - accuracy: 0.9944 - val_loss: 0.0466 - val_accuracy: 0.9921\n",
      "Epoch 71/100\n",
      "38400/38400 [==============================] - 4s 107us/step - loss: 0.0232 - accuracy: 0.9937 - val_loss: 0.0473 - val_accuracy: 0.9931\n",
      "Epoch 72/100\n",
      "38400/38400 [==============================] - 4s 107us/step - loss: 0.0185 - accuracy: 0.9944 - val_loss: 0.0391 - val_accuracy: 0.9921\n",
      "Epoch 73/100\n",
      "38400/38400 [==============================] - 4s 107us/step - loss: 0.0197 - accuracy: 0.9946 - val_loss: 0.0553 - val_accuracy: 0.9933\n",
      "Epoch 74/100\n",
      "38400/38400 [==============================] - 4s 108us/step - loss: 0.0202 - accuracy: 0.9953 - val_loss: 0.0662 - val_accuracy: 0.9927\n",
      "Epoch 75/100\n",
      "38400/38400 [==============================] - 4s 108us/step - loss: 0.0235 - accuracy: 0.9946 - val_loss: 0.0342 - val_accuracy: 0.9903\n",
      "Epoch 76/100\n",
      "38400/38400 [==============================] - 4s 107us/step - loss: 0.0208 - accuracy: 0.9946 - val_loss: 0.0338 - val_accuracy: 0.9924\n",
      "Epoch 77/100\n",
      "38400/38400 [==============================] - 4s 107us/step - loss: 0.0203 - accuracy: 0.9947 - val_loss: 0.0598 - val_accuracy: 0.9927\n",
      "Epoch 78/100\n",
      "38400/38400 [==============================] - 4s 107us/step - loss: 0.0229 - accuracy: 0.9948 - val_loss: 0.0466 - val_accuracy: 0.9927\n",
      "Epoch 79/100\n",
      "38400/38400 [==============================] - 4s 93us/step - loss: 0.0218 - accuracy: 0.9948 - val_loss: 0.0551 - val_accuracy: 0.9921\n",
      "Epoch 80/100\n",
      "38400/38400 [==============================] - 3s 84us/step - loss: 0.0198 - accuracy: 0.9946 - val_loss: 0.0723 - val_accuracy: 0.9930\n",
      "Epoch 81/100\n",
      "38400/38400 [==============================] - 3s 84us/step - loss: 0.0212 - accuracy: 0.9948 - val_loss: 0.0597 - val_accuracy: 0.9935\n",
      "Epoch 82/100\n",
      "38400/38400 [==============================] - 3s 84us/step - loss: 0.0188 - accuracy: 0.9952 - val_loss: 0.0477 - val_accuracy: 0.9927\n",
      "Epoch 83/100\n",
      "38400/38400 [==============================] - 3s 87us/step - loss: 0.0203 - accuracy: 0.9947 - val_loss: 0.0512 - val_accuracy: 0.9925\n",
      "Epoch 84/100\n",
      "38400/38400 [==============================] - 3s 84us/step - loss: 0.0214 - accuracy: 0.9943 - val_loss: 0.0564 - val_accuracy: 0.9926\n",
      "Epoch 85/100\n",
      "38400/38400 [==============================] - 3s 84us/step - loss: 0.0178 - accuracy: 0.9954 - val_loss: 0.0495 - val_accuracy: 0.9921\n",
      "Epoch 86/100\n",
      "38400/38400 [==============================] - 3s 84us/step - loss: 0.0215 - accuracy: 0.9940 - val_loss: 0.0542 - val_accuracy: 0.9920\n",
      "Epoch 87/100\n",
      "38400/38400 [==============================] - 3s 85us/step - loss: 0.0200 - accuracy: 0.9948 - val_loss: 0.0397 - val_accuracy: 0.9918\n",
      "Epoch 88/100\n",
      "38400/38400 [==============================] - 3s 84us/step - loss: 0.0199 - accuracy: 0.9946 - val_loss: 0.0606 - val_accuracy: 0.9926\n",
      "Epoch 89/100\n",
      "38400/38400 [==============================] - 3s 84us/step - loss: 0.0204 - accuracy: 0.9949 - val_loss: 0.0418 - val_accuracy: 0.9927\n",
      "Epoch 90/100\n",
      "38400/38400 [==============================] - 3s 85us/step - loss: 0.0200 - accuracy: 0.9944 - val_loss: 0.0589 - val_accuracy: 0.9930\n",
      "Epoch 91/100\n",
      "38400/38400 [==============================] - 3s 83us/step - loss: 0.0199 - accuracy: 0.9951 - val_loss: 0.0656 - val_accuracy: 0.9928\n",
      "Epoch 92/100\n",
      "38400/38400 [==============================] - 3s 88us/step - loss: 0.0213 - accuracy: 0.9948 - val_loss: 0.0654 - val_accuracy: 0.9922\n",
      "Epoch 93/100\n",
      "38400/38400 [==============================] - 3s 84us/step - loss: 0.0194 - accuracy: 0.9948 - val_loss: 0.0644 - val_accuracy: 0.9929\n",
      "Epoch 94/100\n",
      "38400/38400 [==============================] - 3s 89us/step - loss: 0.0199 - accuracy: 0.9946 - val_loss: 0.0565 - val_accuracy: 0.9932\n",
      "Epoch 95/100\n",
      "38400/38400 [==============================] - 3s 85us/step - loss: 0.0207 - accuracy: 0.9951 - val_loss: 0.0731 - val_accuracy: 0.9927\n",
      "Epoch 96/100\n",
      "38400/38400 [==============================] - 3s 85us/step - loss: 0.0205 - accuracy: 0.9956 - val_loss: 0.0607 - val_accuracy: 0.9923\n",
      "Epoch 97/100\n",
      "38400/38400 [==============================] - 3s 85us/step - loss: 0.0210 - accuracy: 0.9945 - val_loss: 0.0765 - val_accuracy: 0.9927\n",
      "Epoch 98/100\n",
      "38400/38400 [==============================] - 3s 85us/step - loss: 0.0210 - accuracy: 0.9949 - val_loss: 0.0851 - val_accuracy: 0.9920\n",
      "Epoch 99/100\n",
      "38400/38400 [==============================] - 3s 83us/step - loss: 0.0206 - accuracy: 0.9945 - val_loss: 0.0691 - val_accuracy: 0.9925\n",
      "Epoch 100/100\n",
      "38400/38400 [==============================] - 3s 84us/step - loss: 0.0188 - accuracy: 0.9953 - val_loss: 0.0575 - val_accuracy: 0.9921\n"
     ]
    },
    {
     "data": {
      "text/plain": [
       "<keras.callbacks.callbacks.History at 0x14daa6208>"
      ]
     },
     "execution_count": 5,
     "metadata": {},
     "output_type": "execute_result"
    }
   ],
   "source": [
    "# Fit the Model\n",
    "model.fit(X_train, y_train, epochs=100, batch_size=20, verbose=1, validation_split=0.2, shuffle=False)"
   ]
  },
  {
   "cell_type": "code",
   "execution_count": 7,
   "metadata": {},
   "outputs": [],
   "source": [
    "y_pred = model.predict(X_test)\n",
    "y_pred_prob = model.predict_proba(X_test)"
   ]
  },
  {
   "cell_type": "markdown",
   "metadata": {},
   "source": [
    "Calculate ROC curve"
   ]
  },
  {
   "cell_type": "code",
   "execution_count": 20,
   "metadata": {},
   "outputs": [],
   "source": [
    "from sklearn.metrics import roc_curve\n",
    "fpr, tpr, thresholds = roc_curve(y_test, y_pred_prob)"
   ]
  },
  {
   "cell_type": "code",
   "execution_count": 21,
   "metadata": {},
   "outputs": [
    {
     "data": {
      "image/png": "[encoded data removed]",
      "text/plain": [
       "<Figure size 432x288 with 1 Axes>"
      ]
     },
     "metadata": {
      "needs_background": "light"
     },
     "output_type": "display_data"
    }
   ],
   "source": [
    "import matplotlib.pyplot as plt\n",
    "plt.plot(fpr,tpr)\n",
    "plt.title(\"ROC Curve for APS Failure\")\n",
    "plt.xlabel(\"False Positive rate (1-Specificity)\")\n",
    "plt.ylabel(\"True Positive rate (Sensitivity)\")\n",
    "plt.grid(True)\n",
    "plt.show()"
   ]
  },
  {
   "cell_type": "markdown",
   "metadata": {},
   "source": [
    "Calculate AUC score"
   ]
  },
  {
   "cell_type": "code",
   "execution_count": 27,
   "metadata": {},
   "outputs": [
    {
     "data": {
      "text/plain": [
       "0.944787151628455"
      ]
     },
     "execution_count": 27,
     "metadata": {},
     "output_type": "execute_result"
    }
   ],
   "source": [
    "from sklearn.metrics import roc_auc_score\n",
    "roc_auc_score(y_test, y_pred_prob)"
   ]
  }
 ],
 "metadata": {
  "kernelspec": {
   "display_name": "Python 3",
   "language": "python",
   "name": "python3"
  },
  "language_info": {
   "codemirror_mode": {
    "name": "ipython",
    "version": 3
   },
   "file_extension": ".py",
   "mimetype": "text/x-python",
   "name": "python",
   "nbconvert_exporter": "python",
   "pygments_lexer": "ipython3",
   "version": "3.7.2"
  }
 },
 "nbformat": 4,
 "nbformat_minor": 2
}
